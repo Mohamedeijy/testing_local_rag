{
 "cells": [
  {
   "cell_type": "markdown",
   "source": [
    "## Repurposing previous local RAG playground, integrating Pinecone."
   ],
   "metadata": {
    "collapsed": false,
    "pycharm": {
     "name": "#%% md\n"
    }
   }
  },
  {
   "cell_type": "markdown",
   "source": [
    "#### UTILS"
   ],
   "metadata": {
    "collapsed": false,
    "pycharm": {
     "name": "#%% md\n"
    }
   }
  },
  {
   "cell_type": "code",
   "execution_count": 38,
   "outputs": [],
   "source": [
    "def flatten(container):\n",
    "    for i in container:\n",
    "        if isinstance(i, (list,tuple)):\n",
    "            for j in flatten(i):\n",
    "                yield j\n",
    "        else:\n",
    "            yield i\n"
   ],
   "metadata": {
    "collapsed": false,
    "pycharm": {
     "name": "#%%\n"
    }
   }
  },
  {
   "cell_type": "markdown",
   "source": [
    "#### Environment variables"
   ],
   "metadata": {
    "collapsed": false,
    "pycharm": {
     "name": "#%% md\n"
    }
   }
  },
  {
   "cell_type": "code",
   "execution_count": 39,
   "metadata": {
    "collapsed": true,
    "pycharm": {
     "name": "#%%\n"
    }
   },
   "outputs": [
    {
     "data": {
      "text/plain": "True"
     },
     "execution_count": 39,
     "metadata": {},
     "output_type": "execute_result"
    }
   ],
   "source": [
    "# importing os module for environment variables\n",
    "import os\n",
    "# import pandas as pd\n",
    "# importing necessary functions from dotenv library\n",
    "from dotenv import load_dotenv, dotenv_values\n",
    "\n",
    "load_dotenv()"
   ]
  },
  {
   "cell_type": "markdown",
   "source": [
    "#### Data Loading, Splitting\n",
    "Load our Obsidian markdown notes. We'll split them first by headings to maintain a sense of structure that could be used in our metadata."
   ],
   "metadata": {
    "collapsed": false,
    "pycharm": {
     "name": "#%% md\n"
    }
   }
  },
  {
   "cell_type": "code",
   "execution_count": 40,
   "outputs": [
    {
     "name": "stdout",
     "output_type": "stream",
     "text": [
      "Markdown files directory: data/computer_science_notes\n"
     ]
    },
    {
     "name": "stderr",
     "output_type": "stream",
     "text": [
      "\n",
      "\n",
      "100%|██████████| 20/20 [00:00<00:00, 1697.62it/s]"
     ]
    },
    {
     "name": "stdout",
     "output_type": "stream",
     "text": [
      "{'source': 'data\\\\computer_science_notes\\\\Advanced Object Detection.md'} 161\n",
      "{'Header 1': 'Components of modern object detection algorithms/ Faster R-CNN architecture', 'source': 'data\\\\computer_science_notes\\\\Advanced Object Detection.md'} 340\n",
      "{'Header 1': 'Components of modern object detection algorithms/ Faster R-CNN architecture', 'Header 2': 'Anchor boxes', 'source': 'data\\\\computer_science_notes\\\\Advanced Object Detection.md'} 2066\n",
      "{'Header 1': 'Components of modern object detection algorithms/ Faster R-CNN architecture', 'Header 2': 'Region Proposal Network (RPN)', 'source': 'data\\\\computer_science_notes\\\\Advanced Object Detection.md'} 1948\n",
      "{'Header 1': 'Components of modern object detection algorithms/ Faster R-CNN architecture', 'Header 2': 'Next step: classification and regression', 'source': 'data\\\\computer_science_notes\\\\Advanced Object Detection.md'} 957\n",
      "{'Header 1': 'Components of modern object detection algorithms/ Faster R-CNN architecture', 'Header 2': 'Faster R-CNN submodules', 'source': 'data\\\\computer_science_notes\\\\Advanced Object Detection.md'} 742\n",
      "{'Header 1': '[[YOLO (You Only Look Once) approach|Working details of YOLO]]', 'source': 'data\\\\computer_science_notes\\\\Advanced Object Detection.md'} 64\n",
      "{'Header 1': '[[SSD (Single Shot Detector) approach for object detection|Working details of SSD]]', 'source': 'data\\\\computer_science_notes\\\\Advanced Object Detection.md'} 85\n",
      "{'source': 'data\\\\computer_science_notes\\\\Artificial Neural Network (ANN).md'} 597\n",
      "{'source': 'data\\\\computer_science_notes\\\\Basics of Object Detection.md'} 145\n",
      "{'Header 1': 'Basics of Object Detection', 'source': 'data\\\\computer_science_notes\\\\Basics of Object Detection.md'} 1220\n",
      "{'Header 1': 'Basics of Object Detection', 'Header 2': 'Creating a bounding box ground truth for training', 'source': 'data\\\\computer_science_notes\\\\Basics of Object Detection.md'} 1115\n",
      "{'Header 1': 'Basics of Object Detection', 'Header 2': 'What are region proposals ?', 'source': 'data\\\\computer_science_notes\\\\Basics of Object Detection.md'} 2320\n",
      "{'Header 1': 'Basics of Object Detection', 'Header 2': 'Intersection over Union (IoU)', 'source': 'data\\\\computer_science_notes\\\\Basics of Object Detection.md'} 260\n",
      "{'Header 1': 'Basics of Object Detection', 'Header 2': 'Non-max suppression', 'source': 'data\\\\computer_science_notes\\\\Basics of Object Detection.md'} 723\n",
      "{'Header 1': 'Basics of Object Detection', 'Header 2': 'Mean average precision', 'source': 'data\\\\computer_science_notes\\\\Basics of Object Detection.md'} 339\n",
      "{'Header 1': 'Basics of Object Detection', 'Header 2': '[[R-CNN based custom object detectors]]', 'source': 'data\\\\computer_science_notes\\\\Basics of Object Detection.md'} 42\n",
      "{'source': 'data\\\\computer_science_notes\\\\Batch normalization.md'} 1553\n",
      "{'source': 'data\\\\computer_science_notes\\\\Batch size.md'} 2241\n",
      "{'source': 'data\\\\computer_science_notes\\\\Building Statistical Models in Python.md'} 160\n",
      "{'Header 2': 'Outline', 'source': 'data\\\\computer_science_notes\\\\Building Statistical Models in Python.md'} 129\n",
      "{'Header 2': 'Readthrough', 'source': 'data\\\\computer_science_notes\\\\Building Statistical Models in Python.md'} 14\n",
      "{'Header 1': 'Part 1, An introduction to statistics', 'Header 2': 'Chapter 1, Sampling and Generalization', 'source': 'data\\\\computer_science_notes\\\\Building Statistical Models in Python.md'} 5945\n",
      "{'Header 1': 'Part 1, An introduction to statistics', 'Header 2': 'Chapter 2, Distributions of Data', 'source': 'data\\\\computer_science_notes\\\\Building Statistical Models in Python.md'} 7126\n",
      "{'Header 1': 'Part 1, An introduction to statistics', 'Header 2': 'Chapter 3, Hypothesis Testing', 'source': 'data\\\\computer_science_notes\\\\Building Statistical Models in Python.md'} 32\n",
      "{'Header 1': 'Part 1, An introduction to statistics', 'Header 2': 'Chapter 6, [[Simple Linear Regression]]', 'source': 'data\\\\computer_science_notes\\\\Building Statistical Models in Python.md'} 42\n",
      "{'Header 1': 'Part 1, An introduction to statistics', 'Header 2': 'Chapter 7, [[Multiple Linear Regression]]', 'source': 'data\\\\computer_science_notes\\\\Building Statistical Models in Python.md'} 44\n",
      "{'source': 'data\\\\computer_science_notes\\\\Convolutional Neural Networks.md'} 136\n",
      "{'Header 2': 'Convolution', 'source': 'data\\\\computer_science_notes\\\\Convolutional Neural Networks.md'} 1528\n",
      "{'Header 2': 'Filters', 'source': 'data\\\\computer_science_notes\\\\Convolutional Neural Networks.md'} 1236\n",
      "{'Header 2': 'Strides', 'source': 'data\\\\computer_science_notes\\\\Convolutional Neural Networks.md'} 998\n",
      "{'Header 2': 'Padding', 'source': 'data\\\\computer_science_notes\\\\Convolutional Neural Networks.md'} 386\n",
      "{'Header 2': 'Pooling', 'source': 'data\\\\computer_science_notes\\\\Convolutional Neural Networks.md'} 276\n",
      "{'Header 2': 'Flattening through the fully connected layer', 'source': 'data\\\\computer_science_notes\\\\Convolutional Neural Networks.md'} 472\n",
      "{'source': 'data\\\\computer_science_notes\\\\Cross-entropy loss function.md'} 1858\n",
      "{'source': 'data\\\\computer_science_notes\\\\Good practices to achieve good model accuracy.md'} 3698\n",
      "{'source': 'data\\\\computer_science_notes\\\\Implementing backpropagation.md'} 5395\n",
      "{'source': 'data\\\\computer_science_notes\\\\Implementing data augmentation.md'} 5612\n",
      "{'source': 'data\\\\computer_science_notes\\\\Implementing feedforward propagation.md'} 4041\n",
      "{'source': 'data\\\\computer_science_notes\\\\JumperCV Project.md'} 544\n",
      "{'Header 1': 'Overall characteristics', 'source': 'data\\\\computer_science_notes\\\\JumperCV Project.md'} 25\n",
      "{'Header 1': 'Reference read-throughs', 'Header 2': '[Developing a Basketball Minimap for Player Tracking using Broadcast Data and Applied Homography](https://medium.com/mlearning-ai/developing-a-basketball-minimap-for-player-tracking-using-broadcast-data-and-applied-homography-433183b9b995)', 'source': 'data\\\\computer_science_notes\\\\JumperCV Project.md'} 866\n",
      "{'Header 1': 'Reference read-throughs', 'Header 2': '[Computer vision for detecting and tracking players in basketball videos, Sara Battelini (Politecnico de Torino) (2020)](https://webthesis.biblio.polito.it/15863/1/tesi.pdf)', 'source': 'data\\\\computer_science_notes\\\\JumperCV Project.md'} 1519\n",
      "{'Header 1': 'Reference read-throughs', 'Header 2': '[A Robust and Efficient Framework for Sports-Field Registration (2021)](https://openaccess.thecvf.com/content/WACV2021/papers/Nie_A_Robust_and_Efficient_Framework_for_Sports-Field_Registration_WACV_2021_paper.pdf)', 'source': 'data\\\\computer_science_notes\\\\JumperCV Project.md'} 2012\n",
      "{'Header 1': 'Reference read-throughs', 'Header 2': '[Sports Field Registration via Keypoints-aware Label Condition (2022)](https://openaccess.thecvf.com/content/CVPR2022W/CVSports/papers/Chu_Sports_Field_Registration_via_Keypoints-Aware_Label_Condition_CVPRW_2022_paper.pdf)', 'source': 'data\\\\computer_science_notes\\\\JumperCV Project.md'} 366\n",
      "{'Header 1': 'Reference read-throughs', 'Header 2': '[Real-Time Camera Pose Estimation for Sports Fields (2020)](https://arxiv.org/pdf/2003.14109.pdf)', 'source': 'data\\\\computer_science_notes\\\\JumperCV Project.md'} 100\n",
      "{'Header 1': 'Reference read-throughs', 'Header 2': '[Self-Supervised Shape Alignment for Sports Field Registration (2022)](https://openaccess.thecvf.com/content/WACV2022/papers/Shi_Self-Supervised_Shape_Alignment_for_Sports_Field_Registration_WACV_2022_paper.pdf)', 'source': 'data\\\\computer_science_notes\\\\JumperCV Project.md'} 1462\n",
      "{'Header 1': 'Reference read-throughs', 'Header 2': '[Optimizing Through Learned Errors for Accurate Sports Field Registration](https://arxiv.org/pdf/1909.08034.pdf)', 'source': 'data\\\\computer_science_notes\\\\JumperCV Project.md'} 1496\n",
      "{'Header 1': 'Roadmap', 'source': 'data\\\\computer_science_notes\\\\JumperCV Project.md'} 1629\n",
      "{'Header 1': 'New CV concepts', 'Header 2': 'Hough transform', 'source': 'data\\\\computer_science_notes\\\\JumperCV Project.md'} 705\n",
      "{'Header 1': 'New CV concepts', 'Header 2': 'Homography', 'source': 'data\\\\computer_science_notes\\\\JumperCV Project.md'} 546\n",
      "{'Header 1': 'New CV concepts', 'Header 2': 'RANSAC algorithm', 'source': 'data\\\\computer_science_notes\\\\JumperCV Project.md'} 763\n",
      "{'Header 1': 'New CV concepts', 'Header 2': 'SIFT', 'source': 'data\\\\computer_science_notes\\\\JumperCV Project.md'} 166\n",
      "{'Header 1': 'Dataset', 'source': 'data\\\\computer_science_notes\\\\JumperCV Project.md'} 9\n",
      "{'Header 1': 'Possibles networks/algorithms', 'Header 2': 'Court detection/homography', 'source': 'data\\\\computer_science_notes\\\\JumperCV Project.md'} 63\n",
      "{'Header 1': 'Possibles networks/algorithms', 'Header 2': 'Object detection', 'source': 'data\\\\computer_science_notes\\\\JumperCV Project.md'} 19\n",
      "{'Header 1': 'Possibles networks/algorithms', 'Header 2': 'Tracking from bounding boxes', 'source': 'data\\\\computer_science_notes\\\\JumperCV Project.md'} 31\n",
      "{'Header 1': 'Testing history', 'Header 2': 'Homography testing in opencv', 'source': 'data\\\\computer_science_notes\\\\JumperCV Project.md'} 1210\n",
      "{'Header 1': 'Results', 'source': 'data\\\\computer_science_notes\\\\JumperCV Project.md'} 9\n",
      "{'source': 'data\\\\computer_science_notes\\\\Modern Computer Vision with PyTorch.md'} 244\n",
      "{'Header 2': 'Outline', 'source': 'data\\\\computer_science_notes\\\\Modern Computer Vision with PyTorch.md'} 1465\n",
      "{'Header 2': 'Readthrough', 'source': 'data\\\\computer_science_notes\\\\Modern Computer Vision with PyTorch.md'} 1928\n",
      "{'Header 2': 'Section 1, Fundamentals of Deep Learning for Computer Vision', 'source': 'data\\\\computer_science_notes\\\\Modern Computer Vision with PyTorch.md'} 4861\n",
      "{'Header 2': 'Section 2, Object Classification and Detection', 'source': 'data\\\\computer_science_notes\\\\Modern Computer Vision with PyTorch.md'} 12777\n",
      "{'source': 'data\\\\computer_science_notes\\\\R-CNN based custom object detectors.md'} 3223\n",
      "{'Header 2': 'Implementing R-CNN with a custom dataset', 'source': 'data\\\\computer_science_notes\\\\R-CNN based custom object detectors.md'} 535\n",
      "{'Header 2': 'R-CNN network architecture', 'source': 'data\\\\computer_science_notes\\\\R-CNN based custom object detectors.md'} 681\n",
      "{'Header 2': 'Fast R-CNN based custom objet detectors', 'source': 'data\\\\computer_science_notes\\\\R-CNN based custom object detectors.md'} 901\n",
      "{'Header 2': 'Faster R-CNN working details can be found [[Advanced Object Detection#Components of modern object detection algorithms/ Faster R-CNN architecture|here]]', 'source': 'data\\\\computer_science_notes\\\\R-CNN based custom object detectors.md'} 155\n",
      "{'source': 'data\\\\computer_science_notes\\\\Regularization.md'} 2417\n",
      "{'source': 'data\\\\computer_science_notes\\\\Saving and loading a PyTorch model.md'} 439\n",
      "{'Header 2': \"The model's state dict\", 'source': 'data\\\\computer_science_notes\\\\Saving and loading a PyTorch model.md'} 322\n",
      "{'Header 2': 'Saving', 'source': 'data\\\\computer_science_notes\\\\Saving and loading a PyTorch model.md'} 407\n",
      "{'Header 2': 'Loading', 'source': 'data\\\\computer_science_notes\\\\Saving and loading a PyTorch model.md'} 633\n",
      "{'source': 'data\\\\computer_science_notes\\\\SSD (Single Shot Detector) approach for object detection.md'} 2478\n",
      "{'source': 'data\\\\computer_science_notes\\\\Understanding the impact of varying the learning rate.md'} 3053\n",
      "{'source': 'data\\\\computer_science_notes\\\\YOLO (You Only Look Once) approach.md'} 1184\n",
      "{'Header 1': 'Working details', 'source': 'data\\\\computer_science_notes\\\\YOLO (You Only Look Once) approach.md'} 1603\n",
      "{'Header 1': 'Loss function', 'source': 'data\\\\computer_science_notes\\\\YOLO (You Only Look Once) approach.md'} 1370\n"
     ]
    },
    {
     "name": "stderr",
     "output_type": "stream",
     "text": [
      "\n"
     ]
    }
   ],
   "source": [
    "from langchain_community.document_loaders import DirectoryLoader, TextLoader\n",
    "from langchain_text_splitters import MarkdownHeaderTextSplitter\n",
    "from langchain_core.documents.base import Document\n",
    "\n",
    "\n",
    "# can't split document with this splitter, we create a function that splits the content of a document into smaller docs using markdown header splitter\n",
    "def split_md_by_headings(doc: Document, markdown_splitter: MarkdownHeaderTextSplitter) -> list[Document] :\n",
    "    \"\"\" splits the content of a document into smaller docs using markdown header splitter\"\"\"\n",
    "    initial_metadata : dict = doc.metadata\n",
    "    header_splits : list[Document] = markdown_splitter.split_text(doc.page_content)\n",
    "    for doc in header_splits:\n",
    "        doc.metadata.update(initial_metadata)\n",
    "    return header_splits\n",
    "\n",
    "# get directory with md files\n",
    "MD_FILES_DIRECTORY : str = os.getenv(\"MD_FILES_DIRECTORY\")\n",
    "print(f\"Markdown files directory: {MD_FILES_DIRECTORY}\")\n",
    "\n",
    "# Markdown spliter\n",
    "headers_to_split_on : list[tuple] = [(\"#\", \"Header 1\"),(\"##\", \"Header 2\"),]\n",
    "md_splitter = MarkdownHeaderTextSplitter(headers_to_split_on=headers_to_split_on, strip_headers=False)\n",
    "\n",
    "# we use a raw text loader instead of a markdown loader because that one strips the doc of all it's headings\n",
    "loader = DirectoryLoader(path=MD_FILES_DIRECTORY, glob=\"*.md\", loader_cls=TextLoader, show_progress=True)\n",
    "markdowns : list[Document] = loader.load()\n",
    "\n",
    "# split our docs by heading\n",
    "markdowns_split_headers : list[list[Document]] = [split_md_by_headings(doc, md_splitter) for doc in markdowns]\n",
    "markdowns_split_headers : list[Document] = list(flatten(markdowns_split_headers))\n",
    "\n",
    "for doc in markdowns_split_headers:\n",
    "    print(doc.dict()['metadata'], len(doc.page_content))"
   ],
   "metadata": {
    "collapsed": false,
    "pycharm": {
     "name": "#%%\n"
    }
   }
  },
  {
   "cell_type": "code",
   "execution_count": 41,
   "outputs": [
    {
     "data": {
      "text/plain": "79"
     },
     "execution_count": 41,
     "metadata": {},
     "output_type": "execute_result"
    }
   ],
   "source": [
    "len(markdowns_split_headers)"
   ],
   "metadata": {
    "collapsed": false,
    "pycharm": {
     "name": "#%%\n"
    }
   }
  },
  {
   "cell_type": "markdown",
   "source": [
    "We haven't really introduced token-limit concerns in the mix yet. We'll experiment with different chunk size limits. We use a special function again so we can preserve heading metadata (just in case). For now we use a character limit instead of a token limit."
   ],
   "metadata": {
    "collapsed": false,
    "pycharm": {
     "name": "#%% md\n"
    }
   }
  },
  {
   "cell_type": "code",
   "execution_count": 42,
   "outputs": [
    {
     "name": "stderr",
     "output_type": "stream",
     "text": [
      "WARNING:langchain_text_splitters.base:Created a chunk of size 783, which is longer than the specified 512\n",
      "WARNING:langchain_text_splitters.base:Created a chunk of size 526, which is longer than the specified 512\n",
      "WARNING:langchain_text_splitters.base:Created a chunk of size 607, which is longer than the specified 512\n",
      "WARNING:langchain_text_splitters.base:Created a chunk of size 520, which is longer than the specified 512\n"
     ]
    },
    {
     "name": "stdout",
     "output_type": "stream",
     "text": [
      "Final number of chunks: 290\n",
      "Number of chunks bigger than our 512 character limit: 5\n"
     ]
    }
   ],
   "source": [
    "from langchain.text_splitter import CharacterTextSplitter\n",
    "\n",
    "def split_md_by_chunk(doc: Document, text_splitter: CharacterTextSplitter) -> list[Document] :\n",
    "    \"\"\" splits the content of a document into smaller docs using text splitter\"\"\"\n",
    "    initial_metadata : dict = doc.metadata\n",
    "    header_splits : list[Document] = text_splitter.create_documents([doc.page_content])\n",
    "    for doc in header_splits:\n",
    "        doc.metadata.update(initial_metadata)\n",
    "    return header_splits\n",
    "\n",
    "chunk_size : int = 512\n",
    "\n",
    "character_text_splitter = CharacterTextSplitter(\n",
    "    separator = \".\",\n",
    "    chunk_size = chunk_size,\n",
    "    chunk_overlap  = 20\n",
    ")\n",
    "\n",
    "# split our docs by chunk size\n",
    "markdowns_split_chunks : list[list[Document]] = [split_md_by_chunk(doc, character_text_splitter) for doc in markdowns_split_headers]\n",
    "markdowns_split_chunks : list[Document] = list(flatten(markdowns_split_chunks))\n",
    "print(f\"Final number of chunks: {len(markdowns_split_chunks)}\\n\"\n",
    "      f\"Number of chunks bigger than our {chunk_size} character limit: {len([_ for doc in markdowns_split_chunks if len(doc.page_content) > chunk_size ])}\")\n"
   ],
   "metadata": {
    "collapsed": false,
    "pycharm": {
     "name": "#%%\n"
    }
   }
  },
  {
   "cell_type": "markdown",
   "source": [
    "#### Generate embeddings, store in dataframe\n",
    "We'll use NomicEmbed as a model, an open-source model showing good results on Massive Text Embedding Benchmark (MTEB) in comparison to other small embedding model like `text-embedding-3-small`. We login using `nomic login` on our terminal and set `NOMIC_API_KEY` as an environment variable. In the future, we'll try and exploit our own local LLaMa 3 as an embedding model, using \"[LLM2Vec: Large Language Models Are Secretly Powerful Text Encoders](https://arxiv.org/abs/2404.05961)\" as a basis."
   ],
   "metadata": {
    "collapsed": false,
    "pycharm": {
     "name": "#%% md\n"
    }
   }
  },
  {
   "cell_type": "code",
   "execution_count": 43,
   "outputs": [
    {
     "data": {
      "text/plain": "[-0.014556885,\n 0.042907715,\n -0.19152832,\n -0.026611328,\n 0.04434204,\n -0.021774292,\n 0.04977417,\n 0.025512695,\n 0.041381836,\n 0.0018663406,\n 0.022338867,\n 0.040771484,\n 0.055603027,\n -0.015525818,\n -0.028305054,\n 0.0072402954,\n 0.028625488,\n -0.09265137,\n -0.005065918,\n 0.006893158,\n -0.044281006,\n -0.06561279,\n -0.03036499,\n 0.066711426,\n 0.040863037,\n -0.016738892,\n -0.03265381,\n 0.018630981,\n -0.057159424,\n 0.044006348,\n 0.026428223,\n 0.0009665489,\n 0.008293152,\n -0.02734375,\n 0.0045661926,\n -0.004306793,\n 0.019805908,\n 0.044067383,\n 0.008934021,\n 0.032958984,\n 0.03186035,\n 0.0025367737,\n -0.0054473877,\n -0.065979004,\n 0.032409668,\n -0.023498535,\n 0.05596924,\n 0.015716553,\n 0.072509766,\n -0.044281006,\n -0.023040771,\n -0.0048294067,\n 0.027633667,\n -0.06201172,\n 0.076538086,\n 0.015930176,\n 0.0390625,\n 0.008224487,\n 0.013786316,\n 0.02178955,\n 0.12438965,\n 0.001045227,\n 0.013343811,\n 0.06173706,\n 0.0236969,\n -0.056121826,\n -0.033050537,\n 0.047058105,\n -0.026657104,\n -0.040130615,\n -0.0039787292,\n 0.024215698,\n 0.0057525635,\n 0.01713562,\n -0.010902405,\n -0.00082063675,\n -0.06555176,\n -0.015716553,\n 0.034606934,\n 0.011703491,\n 0.026321411,\n 5.2273273e-05,\n 0.03527832,\n -0.04650879,\n 0.008308411,\n 0.01361084,\n 0.02494812,\n -0.005207062,\n -0.028213501,\n 0.012786865,\n 0.011360168,\n 0.01713562,\n 0.040771484,\n 0.033233643,\n -0.034179688,\n 0.025344849,\n 0.039215088,\n -0.0022583008,\n -0.021148682,\n -0.047973633,\n -0.014701843,\n 0.009391785,\n -0.0143585205,\n -0.008979797,\n 0.08251953,\n 0.017349243,\n -0.0035800934,\n 0.014320374,\n -0.034851074,\n -0.02279663,\n -0.05001831,\n 0.056549072,\n 0.019180298,\n -0.020431519,\n -0.0052871704,\n 0.023971558,\n 0.09161377,\n -0.03527832,\n 0.00894165,\n 0.04373169,\n 0.006099701,\n 0.016494751,\n 0.009109497,\n 0.08105469,\n -0.0045700073,\n -0.023284912,\n -0.03189087,\n 0.06427002,\n -0.0008196831,\n 0.004299164,\n 0.00819397,\n -0.03338623,\n -0.020401001,\n 0.01953125,\n -0.004852295,\n 0.010002136,\n -0.029754639,\n -0.04827881,\n 0.0038146973,\n 0.005882263,\n 0.023468018,\n -0.008102417,\n 0.0040779114,\n -0.031982422,\n 0.041809082,\n -0.06921387,\n 0.005393982,\n -0.046020508,\n -0.0051612854,\n -0.017028809,\n -0.055358887,\n -0.041656494,\n -0.013244629,\n -0.04763794,\n 0.049560547,\n -0.06524658,\n -0.03048706,\n 0.010398865,\n 0.027267456,\n 0.034362793,\n 0.037017822,\n -0.038146973,\n -0.03869629,\n 0.08288574,\n -0.015060425,\n -0.06756592,\n 0.010215759,\n 0.008766174,\n 0.0044403076,\n 0.043640137,\n 0.0010852814,\n -0.046936035,\n 0.056549072,\n -0.08392334,\n -0.008636475,\n -0.037353516,\n 0.008346558,\n -0.032714844,\n 0.05206299,\n -0.06921387,\n 0.08319092,\n -0.06842041,\n 0.07647705,\n 0.048217773,\n -0.036865234,\n -0.040283203,\n 0.014717102,\n 0.019805908,\n 0.018249512,\n -0.012237549,\n -0.004638672,\n 0.0140686035,\n -0.06719971,\n 0.0009775162,\n 0.016113281,\n -0.023345947,\n 0.008598328,\n -0.012283325,\n -0.04714966,\n -0.018463135,\n -0.031555176,\n -0.047180176,\n -0.023742676,\n 0.00907135,\n -0.06542969,\n 0.052215576,\n 0.03857422,\n 0.057647705,\n 0.0035247803,\n 0.00299263,\n 0.028274536,\n 0.023620605,\n 0.011169434,\n -0.030822754,\n 0.0096206665,\n 0.013221741,\n -0.009429932,\n -0.03692627,\n -0.035369873,\n 0.036224365,\n 0.04257202,\n -0.015342712,\n -0.012512207,\n -0.0060195923,\n -0.012039185,\n -0.0017910004,\n -0.013786316,\n -0.026016235,\n -0.00076913834,\n 0.022613525,\n -0.01121521,\n -0.08404541,\n 0.05810547,\n 0.006790161,\n 0.020568848,\n 0.031311035,\n -0.014183044,\n 0.072631836,\n 0.008613586,\n -0.002407074,\n 0.0033245087,\n 0.03869629,\n 0.0046577454,\n -0.018051147,\n -0.042419434,\n 0.012382507,\n 0.005252838,\n 0.034332275,\n 0.014007568,\n 0.03048706,\n 0.005039215,\n 0.0060806274,\n -0.035247803,\n 0.023468018,\n 0.01007843,\n -0.037475586,\n -0.03652954,\n 0.058380127,\n 0.049957275,\n 3.170967e-05,\n 0.0096588135,\n -0.04840088,\n 0.0014486313,\n -0.047302246,\n -0.041931152,\n -2.4437904e-05,\n -0.070007324,\n -0.047454834,\n -0.020492554,\n -0.022567749,\n 0.0069084167,\n 0.054595947,\n 0.034423828,\n 0.011764526,\n -0.02180481,\n 0.028579712,\n -0.012283325,\n 0.019119263,\n 0.005001068,\n 0.057800293,\n -0.03024292,\n -0.036254883,\n -0.017456055,\n 0.023864746,\n -0.009864807,\n 0.03527832,\n 0.0012998581,\n 0.019836426,\n 0.055664062,\n -0.0010633469,\n 0.010215759,\n 0.03189087,\n -0.040405273,\n 0.056884766,\n 0.026321411,\n 0.018432617,\n 0.054351807,\n 0.00031471252,\n 0.018798828,\n 0.028533936,\n 0.021575928,\n 0.04940796,\n 0.022445679,\n 0.02684021,\n -0.01852417,\n -0.0637207,\n 0.04876709,\n -0.0029563904,\n 0.03942871,\n 0.020889282,\n -0.029541016,\n -0.055419922,\n -0.014556885,\n 0.001411438,\n -0.02684021,\n 0.026733398,\n 0.034942627,\n 0.051635742,\n 0.012161255,\n 0.027648926,\n -0.0085372925,\n -0.049468994,\n -0.040893555,\n -0.08306885,\n -0.017532349,\n 0.0013837814,\n -0.0018444061,\n 0.053466797,\n -0.03640747,\n -0.043304443,\n -0.019241333,\n 0.04675293,\n -0.022918701,\n -0.05050659,\n -0.0016479492,\n 0.058685303,\n 0.016082764,\n -0.011047363,\n -0.019119263,\n 0.02230835,\n 0.022262573,\n 0.009521484,\n -0.029388428,\n -0.033691406,\n -0.0051078796,\n -0.009902954,\n -0.04257202,\n 0.020339966,\n 0.02293396,\n 0.01751709,\n -0.054260254,\n 0.017745972,\n 0.00680542,\n 0.0021629333,\n 0.022628784,\n 0.008262634,\n 0.05102539,\n 0.0054740906,\n 0.027389526,\n 0.026687622,\n 0.028411865,\n 0.030654907,\n 0.012931824,\n -0.049560547,\n 0.0030403137,\n 0.04031372,\n -0.015052795,\n -0.013267517,\n 0.08728027,\n 0.021255493,\n -0.046325684,\n -0.012023926,\n 0.025817871,\n 0.05770874,\n -0.0236969,\n -0.013076782,\n -0.084228516,\n -0.047912598,\n 0.014083862,\n -0.012321472,\n -0.0035972595,\n -0.022537231,\n 0.01953125,\n 0.04953003,\n 0.0206604,\n 0.01612854,\n -0.010665894,\n -0.03302002,\n -0.023239136,\n 0.027862549,\n -0.0038967133,\n 0.012557983,\n -0.05206299,\n 0.011932373,\n -0.039764404,\n -0.03201294,\n 0.023071289,\n -0.003376007,\n 0.009338379,\n -0.00067329407,\n -0.016281128,\n -0.04925537,\n 0.0062446594,\n 0.0062446594,\n -0.054992676,\n 0.034729004,\n -0.027557373,\n -0.029663086,\n 0.060577393,\n -0.017425537,\n 0.014732361,\n 0.0209198,\n 0.022537231,\n 0.0079422,\n -0.006477356,\n 0.04498291,\n 0.01399231,\n -0.028060913,\n -0.020263672,\n -0.023742676,\n 0.057891846,\n 0.026031494,\n 0.0099105835,\n -0.014289856,\n 0.013748169,\n 0.004020691,\n -0.0060272217,\n 0.038116455,\n 0.031402588,\n -0.06585693,\n -0.008369446,\n 0.058441162,\n 0.016204834,\n 0.00970459,\n -0.029067993,\n 0.0463562,\n 0.05114746,\n -0.011932373,\n 0.024215698,\n 0.025665283,\n 0.010192871,\n -0.03302002,\n -0.05050659,\n -0.0005002022,\n -0.0043563843,\n 0.08117676,\n 0.013458252,\n 0.021469116,\n -0.006214142,\n -0.008262634,\n -0.05218506,\n 0.0055351257,\n 0.04525757,\n -0.0009775162,\n 0.066711426,\n -0.0637207,\n -0.006793976,\n -0.026672363,\n 0.048736572,\n 0.054748535,\n 0.03881836,\n 0.005970001,\n -0.010192871,\n 0.040008545,\n 0.024978638,\n -0.038970947,\n 0.017303467,\n -0.04144287,\n 0.019836426,\n 0.06021118,\n -0.026275635,\n 0.0032081604,\n 0.056884766,\n -0.062805176,\n 0.021987915,\n -0.0028953552,\n 0.032836914,\n -0.023483276,\n -0.04046631,\n 0.026245117,\n -0.03994751,\n 0.07287598,\n -0.04989624,\n -0.04559326,\n 0.015655518,\n -0.003944397,\n 0.07220459,\n -0.00440979,\n 0.017486572,\n 0.034698486,\n 0.05999756,\n 0.014564514,\n 0.030899048,\n -0.06768799,\n -0.032989502,\n -0.0077171326,\n -0.015464783,\n 0.04864502,\n 0.01889038,\n -0.03778076,\n 0.021530151,\n 0.0051612854,\n -0.028167725,\n 0.034942627,\n 0.0031280518,\n -0.013061523,\n 0.0028839111,\n -0.05319214,\n -0.030197144,\n -0.028396606,\n 0.008483887,\n 0.01373291,\n 0.036468506,\n 0.034301758,\n 0.013870239,\n -0.018508911,\n 0.0680542,\n 0.057159424,\n -0.04699707,\n 0.02444458,\n -0.0050811768,\n -0.04559326,\n -0.043395996,\n -0.0095825195,\n -0.032226562,\n 0.03869629,\n -0.0011196136,\n -0.0107421875,\n 0.095336914,\n -0.05267334,\n 0.01626587,\n 0.011779785,\n -0.03552246,\n -0.013435364,\n 0.003490448,\n 0.037109375,\n -0.010627747,\n 0.011627197,\n 0.0065841675,\n 0.007461548,\n -0.05831909,\n 0.0011425018,\n 0.00472641,\n -0.031982422,\n 0.057800293,\n -0.009422302,\n -0.02180481,\n -0.052856445,\n -0.007320404,\n -0.0007710457,\n 0.04373169,\n -0.1071167,\n -0.014503479,\n -0.019256592,\n 0.00016665459,\n -0.08068848,\n -0.011940002,\n 0.0053977966,\n -0.054260254,\n -0.03552246,\n 0.04083252,\n -0.013015747,\n 0.06329346,\n 0.0068473816,\n 0.041534424,\n -0.02407837,\n -0.025436401,\n 0.05819702,\n -0.011482239,\n -0.050201416,\n -0.03552246,\n -0.03338623,\n 0.023010254,\n -0.020690918,\n -0.032409668,\n 0.042053223,\n -0.0029335022,\n -0.008148193,\n -0.023712158,\n -0.050842285,\n 0.032714844,\n -0.045532227,\n 0.012191772,\n 0.05596924,\n 0.036865234,\n -0.010772705,\n -0.011497498,\n -0.03265381,\n 0.036010742,\n -0.05206299,\n -0.0680542,\n 0.014442444,\n 0.04849243,\n -0.00919342,\n 0.0018348694,\n 0.022033691,\n -0.04421997,\n -0.033843994,\n -0.023971558,\n -0.038391113,\n -0.010871887,\n -0.013648987,\n 0.038085938,\n -0.02331543,\n 0.007835388,\n 0.0413208,\n -0.025177002,\n 0.027145386,\n -0.028579712,\n -0.032714844,\n -0.00041651726,\n -0.052825928,\n -0.034179688,\n 0.004940033,\n 0.010894775,\n -0.061645508,\n 0.018325806,\n -0.01210022,\n -0.029846191,\n -0.028396606,\n 0.0020923615,\n -0.015220642,\n 0.051574707,\n -0.01826477,\n 0.07128906,\n -0.00970459,\n -0.052947998,\n -0.036010742,\n 0.0013198853,\n 0.033294678,\n -0.019866943,\n -0.034729004,\n -0.0871582,\n -0.017303467,\n 0.0029754639,\n -0.010925293,\n 0.044067383,\n -0.009124756,\n -0.038604736,\n 0.04336548,\n 0.020111084,\n -0.015182495,\n -0.043304443,\n -0.022445679,\n 0.08666992,\n -0.027633667,\n 0.019927979,\n -0.011253357,\n 0.059753418,\n -0.03265381,\n 0.09631348,\n 0.10394287,\n 0.028137207,\n 0.0053901672,\n 0.007881165,\n -0.0011453629,\n 0.003730774,\n -0.05822754,\n -0.027862549,\n -0.017974854,\n 0.016601562,\n -0.003320694,\n -0.033599854,\n -0.0231781,\n 0.016571045,\n -0.0021076202,\n -0.05267334,\n -0.0022068024,\n -0.03805542,\n -0.013465881,\n 0.0070152283,\n -0.039642334,\n -0.03366089,\n -0.03768921,\n 0.045928955,\n 0.02394104,\n -0.010604858,\n 0.046966553,\n -0.0070381165,\n 0.0023918152,\n -0.014289856,\n -0.0040130615,\n 0.0045433044,\n -0.0126953125,\n -0.033935547,\n -0.0016021729,\n -0.0061531067,\n -0.012023926,\n -0.004814148,\n -0.01197052,\n -0.072021484,\n -0.0848999,\n 0.025283813,\n -0.052215576,\n -0.016342163,\n -0.038635254,\n 7.915497e-05,\n -0.040618896,\n -0.059051514,\n 0.02432251,\n 0.02758789,\n 0.03692627,\n 0.0002465248,\n 0.01763916,\n -0.052520752,\n -0.0770874,\n 0.054016113,\n 0.023727417,\n -0.0062828064,\n 0.0033130646,\n 0.013549805,\n 0.025878906,\n 0.0028247833,\n 0.04724121,\n 0.054016113,\n 0.01889038,\n -0.04827881,\n -0.016326904,\n -0.021850586,\n 0.035308838,\n 0.030334473,\n -0.037994385,\n -0.04333496,\n -0.036468506,\n -0.033447266,\n -0.014755249,\n 0.018630981,\n 0.013046265,\n 0.010528564,\n 0.026031494,\n 0.024398804,\n -0.0046691895,\n -0.04660034,\n 0.045074463,\n 0.0066223145,\n -0.018554688,\n -0.06719971,\n -0.013809204,\n -0.044647217,\n -0.044158936,\n -0.060668945,\n -0.021987915,\n -0.004169464,\n 0.0076293945,\n -0.0014104843,\n -0.020843506,\n 0.041137695,\n -0.00069379807,\n 0.052215576,\n -0.050567627,\n 0.043823242,\n -0.00025105476,\n 0.005924225,\n 0.0044441223,\n 0.045837402,\n 0.06628418,\n 0.002576828,\n 0.046020508,\n 0.063964844,\n 0.031280518,\n 0.035980225,\n -0.023239136,\n -0.03427124,\n 0.028640747,\n 0.02168274,\n -0.059173584,\n -0.040771484,\n 0.00623703]"
     },
     "execution_count": 43,
     "metadata": {},
     "output_type": "execute_result"
    }
   ],
   "source": [
    "from langchain_nomic.embeddings import NomicEmbeddings\n",
    "\n",
    "dimensionality : int = 768\n",
    "embed_model = NomicEmbeddings(model=\"nomic-embed-text-v1.5\", dimensionality=dimensionality) # not quite clear yet what specific dimensionality I have to work with\n",
    "embed_model.embed_query(\"My query to look up\")"
   ],
   "metadata": {
    "collapsed": false,
    "pycharm": {
     "name": "#%%\n"
    }
   }
  },
  {
   "cell_type": "code",
   "execution_count": 44,
   "outputs": [],
   "source": [
    "# generate embedding from a text\n",
    "def get_embeddings(text: str) -> list[float]:\n",
    "    \"\"\" take a string and return embeddings in the form of a vector of floats\"\"\"\n",
    "    return embed_model.embed_query(text)"
   ],
   "metadata": {
    "collapsed": false,
    "pycharm": {
     "name": "#%%\n"
    }
   }
  },
  {
   "cell_type": "markdown",
   "source": [
    "We streamline the generation of a dataframe based on our list of langchain documents."
   ],
   "metadata": {
    "collapsed": false,
    "pycharm": {
     "name": "#%% md\n"
    }
   }
  },
  {
   "cell_type": "code",
   "execution_count": 45,
   "outputs": [],
   "source": [
    "import pandas as pd\n",
    "def document_list_to_dataframe(docs: list[Document]) -> pd.DataFrame :\n",
    "    \"\"\" extract data from list of documents and store in dataframe ('id', 'embeddings', 'metadata'(text inside here)) \"\"\"\n",
    "    columns = ['embeddings', 'metadata']\n",
    "    df = pd.DataFrame(columns=columns)\n",
    "\n",
    "    for doc in docs:\n",
    "        # get document data\n",
    "        text : str = doc.page_content\n",
    "        doc_metadata : dict = doc.dict()['metadata']\n",
    "        # generate embeddings\n",
    "        embeds : list[float] = get_embeddings(text)\n",
    "        # insert text in metadata dict\n",
    "        doc_metadata.update({'text': text})\n",
    "        df = pd.concat([df, pd.DataFrame([[embeds,doc_metadata]], columns=columns)], ignore_index=True)\n",
    "\n",
    "    df.reset_index()\n",
    "    # df['id'] = range(1, len(df) + 1)\n",
    "    # df['id'] = str(df['id'])\n",
    "    # df.set_index('id', inplace=True)\n",
    "    return df"
   ],
   "metadata": {
    "collapsed": false,
    "pycharm": {
     "name": "#%%\n"
    }
   }
  },
  {
   "cell_type": "code",
   "execution_count": 46,
   "outputs": [],
   "source": [
    "def get_pinecone_dicts(df: pd.DataFrame) -> list[dict]:\n",
    "    \"\"\" dataframe data into list of dicts to upsert in Pinecone index \"\"\"\n",
    "    dicts = df.to_dict(orient='records')\n",
    "\n",
    "    pinecone_dicts = []\n",
    "    for i, df_dict in enumerate(dicts):\n",
    "        pc_dict = {\n",
    "            'id': str(i),\n",
    "            'values': df_dict['embeddings'],\n",
    "            'metadata': df_dict['metadata']\n",
    "        }\n",
    "        pinecone_dicts.append(pc_dict)\n",
    "    return pinecone_dicts"
   ],
   "metadata": {
    "collapsed": false,
    "pycharm": {
     "name": "#%%\n"
    }
   }
  },
  {
   "cell_type": "code",
   "execution_count": 47,
   "outputs": [
    {
     "data": {
      "text/plain": "                                          embeddings  \\\n0  [0.002105713, 0.01939392, -0.18383789, -0.0800...   \n1  [0.016067505, 0.020019531, -0.171875, -0.01194...   \n2  [0.026245117, 0.10760498, -0.17236328, -0.0895...   \n3  [0.018203735, 0.09442139, -0.1652832, -0.06201...   \n4  [0.029800415, 0.09063721, -0.18261719, -0.0787...   \n\n                                            metadata  \n0  {'source': 'data\\computer_science_notes\\Advanc...  \n1  {'Header 1': 'Components of modern object dete...  \n2  {'Header 1': 'Components of modern object dete...  \n3  {'Header 1': 'Components of modern object dete...  \n4  {'Header 1': 'Components of modern object dete...  ",
      "text/html": "<div>\n<style scoped>\n    .dataframe tbody tr th:only-of-type {\n        vertical-align: middle;\n    }\n\n    .dataframe tbody tr th {\n        vertical-align: top;\n    }\n\n    .dataframe thead th {\n        text-align: right;\n    }\n</style>\n<table border=\"1\" class=\"dataframe\">\n  <thead>\n    <tr style=\"text-align: right;\">\n      <th></th>\n      <th>embeddings</th>\n      <th>metadata</th>\n    </tr>\n  </thead>\n  <tbody>\n    <tr>\n      <th>0</th>\n      <td>[0.002105713, 0.01939392, -0.18383789, -0.0800...</td>\n      <td>{'source': 'data\\computer_science_notes\\Advanc...</td>\n    </tr>\n    <tr>\n      <th>1</th>\n      <td>[0.016067505, 0.020019531, -0.171875, -0.01194...</td>\n      <td>{'Header 1': 'Components of modern object dete...</td>\n    </tr>\n    <tr>\n      <th>2</th>\n      <td>[0.026245117, 0.10760498, -0.17236328, -0.0895...</td>\n      <td>{'Header 1': 'Components of modern object dete...</td>\n    </tr>\n    <tr>\n      <th>3</th>\n      <td>[0.018203735, 0.09442139, -0.1652832, -0.06201...</td>\n      <td>{'Header 1': 'Components of modern object dete...</td>\n    </tr>\n    <tr>\n      <th>4</th>\n      <td>[0.029800415, 0.09063721, -0.18261719, -0.0787...</td>\n      <td>{'Header 1': 'Components of modern object dete...</td>\n    </tr>\n  </tbody>\n</table>\n</div>"
     },
     "execution_count": 47,
     "metadata": {},
     "output_type": "execute_result"
    }
   ],
   "source": [
    "df = document_list_to_dataframe(markdowns_split_chunks[:int(len(markdowns_split_chunks)*0.7)])\n",
    "df.head()"
   ],
   "metadata": {
    "collapsed": false,
    "pycharm": {
     "name": "#%%\n"
    }
   }
  },
  {
   "cell_type": "code",
   "execution_count": 48,
   "outputs": [],
   "source": [
    "vector_dicts = get_pinecone_dicts(df)"
   ],
   "metadata": {
    "collapsed": false,
    "pycharm": {
     "name": "#%%\n"
    }
   }
  },
  {
   "cell_type": "markdown",
   "source": [
    "### Getting Pinecone index instance and execute data ingestion script."
   ],
   "metadata": {
    "collapsed": false,
    "pycharm": {
     "name": "#%% md\n"
    }
   }
  },
  {
   "cell_type": "code",
   "execution_count": 49,
   "outputs": [],
   "source": [
    "from pinecone import Pinecone, ServerlessSpec\n",
    "\n",
    "PINECONE_API_KEY : str = os.getenv(\"PINECONE_API_KEY\")\n",
    "pc = Pinecone(api_key=PINECONE_API_KEY)"
   ],
   "metadata": {
    "collapsed": false,
    "pycharm": {
     "name": "#%%\n"
    }
   }
  },
  {
   "cell_type": "code",
   "execution_count": null,
   "outputs": [],
   "source": [
    "from pinecone import PineconeApiException\n",
    "\n",
    "index_name : str = \"markdown-notes\"\n",
    "\n",
    "pc.create_index(\n",
    "    name=index_name,\n",
    "    dimension=dimensionality, # Replace with your model dimensions\n",
    "    metric=\"cosine\", # Replace with your model metric\n",
    "    spec=ServerlessSpec(\n",
    "        cloud=\"aws\",\n",
    "        region=\"us-east-1\"\n",
    "    )\n",
    ")"
   ],
   "metadata": {
    "collapsed": false,
    "pycharm": {
     "name": "#%%\n",
     "is_executing": true
    }
   }
  },
  {
   "cell_type": "markdown",
   "source": [
    "Connect to the index."
   ],
   "metadata": {
    "collapsed": false,
    "pycharm": {
     "name": "#%% md\n"
    }
   }
  },
  {
   "cell_type": "code",
   "execution_count": 51,
   "outputs": [
    {
     "data": {
      "text/plain": "{'dimension': 768,\n 'index_fullness': 0.0,\n 'namespaces': {'': {'vector_count': 1}},\n 'total_vector_count': 1}"
     },
     "execution_count": 51,
     "metadata": {},
     "output_type": "execute_result"
    }
   ],
   "source": [
    "index : Pinecone.Index = pc.Index(index_name)\n",
    "index.describe_index_stats()"
   ],
   "metadata": {
    "collapsed": false,
    "pycharm": {
     "name": "#%%\n"
    }
   }
  },
  {
   "cell_type": "markdown",
   "source": [
    "Upsert the data to Pinecone."
   ],
   "metadata": {
    "collapsed": false,
    "pycharm": {
     "name": "#%% md\n"
    }
   }
  },
  {
   "cell_type": "code",
   "execution_count": 52,
   "outputs": [
    {
     "data": {
      "text/plain": "{'upserted_count': 203}"
     },
     "execution_count": 52,
     "metadata": {},
     "output_type": "execute_result"
    }
   ],
   "source": [
    "index.upsert(vectors=vector_dicts)"
   ],
   "metadata": {
    "collapsed": false,
    "pycharm": {
     "name": "#%%\n"
    }
   }
  },
  {
   "cell_type": "markdown",
   "source": [
    "Check our vector count."
   ],
   "metadata": {
    "collapsed": false,
    "pycharm": {
     "name": "#%% md\n"
    }
   }
  },
  {
   "cell_type": "code",
   "execution_count": 54,
   "outputs": [
    {
     "data": {
      "text/plain": "{'dimension': 768,\n 'index_fullness': 0.0,\n 'namespaces': {'': {'vector_count': 204}},\n 'total_vector_count': 204}"
     },
     "execution_count": 54,
     "metadata": {},
     "output_type": "execute_result"
    }
   ],
   "source": [
    "index.describe_index_stats()"
   ],
   "metadata": {
    "collapsed": false,
    "pycharm": {
     "name": "#%%\n"
    }
   }
  },
  {
   "cell_type": "markdown",
   "source": [
    "Testing index with a query."
   ],
   "metadata": {
    "collapsed": false,
    "pycharm": {
     "name": "#%% md\n"
    }
   }
  },
  {
   "cell_type": "code",
   "execution_count": 55,
   "outputs": [
    {
     "data": {
      "text/plain": "{'matches': [{'id': '45',\n              'metadata': {'source': 'data\\\\computer_science_notes\\\\Batch '\n                                     'size.md',\n                           'text': 'Advantages of using a batch size < number '\n                                   'of all samples:  \\n'\n                                   '- It requires less memory. Since you train '\n                                   'the network using fewer samples, the '\n                                   'overall training procedure requires less '\n                                   \"memory. That's especially important if you \"\n                                   'are not able to fit the whole dataset in '\n                                   \"your machine's memory.  \\n\"\n                                   '- Typically networks train faster with '\n                                   \"mini-batches. That's because we update the \"\n                                   'weights after each propagation'},\n              'score': 0.762337685,\n              'values': []},\n             {'id': '118',\n              'metadata': {'source': 'data\\\\computer_science_notes\\\\Implementing '\n                                     'backpropagation.md',\n                           'text': 'And we do gradient descent for one batch '\n                                   \"at a time until we've exhausted all data \"\n                                   'points, within one **epoch** of '\n                                   'training.  \\n'\n                                   'The typical batch size considered in '\n                                   'building a model is anywhere between 32 '\n                                   'and 1,024'},\n              'score': 0.749031067,\n              'values': []},\n             {'id': '43',\n              'metadata': {'source': 'data\\\\computer_science_notes\\\\Batch '\n                                     'size.md',\n                           'text': '[From user @itdxer in '\n                                   'stakoverflow.com]([python - What is batch '\n                                   'size in neural network? - Cross Validated '\n                                   '(stackexchange.com)](https://stats.stackexchange.com/questions/153531/what-is-batch-size-in-neural-network)) '\n                                   ':\\n'\n                                   'Subjects: [[Deep Learning]]  \\n'\n                                   'TheÂ\\xa0**batch size**Â\\xa0defines the '\n                                   'number of samples that will be propagated '\n                                   'through the network.  \\n'\n                                   \"For instance, let's say you have 1050 \"\n                                   'training samples and you want to set up '\n                                   'aÂ\\xa0`batch_size`Â\\xa0equal to 100'},\n              'score': 0.74096179,\n              'values': []}],\n 'namespace': '',\n 'usage': {'read_units': 6}}"
     },
     "execution_count": 55,
     "metadata": {},
     "output_type": "execute_result"
    }
   ],
   "source": [
    "query = \"batch size\"\n",
    "embedded_query = embed_model.embed_query(query)\n",
    "index.query(\n",
    "    vector=embedded_query,\n",
    "    top_k=3,\n",
    "    include_values=False,\n",
    "    include_metadata=True\n",
    ")"
   ],
   "metadata": {
    "collapsed": false,
    "pycharm": {
     "name": "#%%\n"
    }
   }
  },
  {
   "cell_type": "markdown",
   "source": [
    "### Create chain"
   ],
   "metadata": {
    "collapsed": false,
    "pycharm": {
     "name": "#%% md\n"
    }
   }
  },
  {
   "cell_type": "markdown",
   "source": [
    "We'll use our local LLaMa 3."
   ],
   "metadata": {
    "collapsed": false,
    "pycharm": {
     "name": "#%% md\n"
    }
   }
  },
  {
   "cell_type": "code",
   "execution_count": 58,
   "outputs": [],
   "source": [
    "OPENAI_API_KEY = os.getenv(\"OPENAI_API_KEY\")\n",
    "# MODEL = \"gpt-3.5-turbo\"\n",
    "MODEL = \"llama3:8b\""
   ],
   "metadata": {
    "collapsed": false,
    "pycharm": {
     "name": "#%%\n"
    }
   }
  },
  {
   "cell_type": "code",
   "execution_count": 61,
   "outputs": [
    {
     "data": {
      "text/plain": "\"What a great question!\\n\\nThe short answer: The sky appears blue because of a phenomenon called Rayleigh scattering, named after the British physicist Lord Rayleigh. Here's what happens:\\n\\n1. **Sunlight**: When sunlight enters Earth's atmosphere, it contains all the colors of the visible spectrum (red, orange, yellow, green, blue, indigo, and violet).\\n2. **Molecules**: The atmosphere is made up of tiny molecules of gases like nitrogen (N2) and oxygen (O2). These molecules are much smaller than the wavelength of light.\\n3. **Scattering**: When sunlight hits these molecules, it scatters in all directions. This scattering effect is more pronounced for shorter wavelengths (like blue and violet) than longer wavelengths (like red and orange).\\n4. **Blue dominance**: As a result of this scattering, the shorter wavelengths (blue and violet) are distributed throughout the sky, making it appear blue to our eyes.\\n\\nThe longer wavelengths (red and orange) continue to travel in a more direct path to our eyes, which is why we see them as the sun's color. The combination of scattered blue light and direct red-orange light gives us the blue sky we're familiar with!\\n\\nOther factors can influence the apparent color of the sky, such as:\\n\\n* **Atmospheric conditions**: Dust, pollution, and water vapor in the air can scatter light in different ways, changing the sky's color.\\n* **Time of day**: The angle of the sun and the amount of scattered light can affect the sky's color during sunrise and sunset.\\n* **Altitude and atmospheric pressure**: Changes in altitude or atmospheric pressure can alter the scattering patterns and the resulting sky color.\\n\\nNow, go outside and enjoy that beautiful blue sky!\""
     },
     "execution_count": 61,
     "metadata": {},
     "output_type": "execute_result"
    }
   ],
   "source": [
    "from langchain_openai.chat_models import ChatOpenAI\n",
    "from langchain_openai.embeddings import OpenAIEmbeddings\n",
    "from langchain_community.llms import Ollama\n",
    "from langchain_community.embeddings import OllamaEmbeddings\n",
    "\n",
    "# test openai and llama message response\n",
    "if MODEL.startswith('gpt'):\n",
    "    model = ChatOpenAI(api_key=OPENAI_API_KEY, model=MODEL)\n",
    "    embeddings = OpenAIEmbeddings()\n",
    "else:\n",
    "    model = Ollama(model=MODEL,\n",
    "                   keep_alive=1, # keep model loaded to gain time\n",
    "                   temperature=0,\n",
    "                   )\n",
    "    embeddings = OllamaEmbeddings(model=\"llama3:8b\")\n",
    "\n",
    "model.invoke(\"Why is the sky blue ?\")"
   ],
   "metadata": {
    "collapsed": false,
    "pycharm": {
     "name": "#%%\n"
    }
   }
  },
  {
   "cell_type": "markdown",
   "source": [
    "We'll keep the parsing module and everything the same."
   ],
   "metadata": {
    "collapsed": false,
    "pycharm": {
     "name": "#%% md\n"
    }
   }
  },
  {
   "cell_type": "code",
   "execution_count": 62,
   "outputs": [
    {
     "data": {
      "text/plain": "\"The color of the sky can appear different depending on the time of day, atmospheric conditions, and the observer's location. However, under normal conditions, the sky typically appears blue to our eyes because of a phenomenon called Rayleigh scattering.\\n\\nRayleigh scattering is the scattering of light by small particles or molecules in the atmosphere, such as nitrogen (N2) and oxygen (O2). These gases are much smaller than the wavelength of visible light, so they scatter shorter (blue) wavelengths more efficiently than longer (red) wavelengths. This means that when sunlight enters Earth's atmosphere, the blue and violet colors are scattered in all directions by these tiny molecules, reaching our eyes from all parts of the sky.\\n\\nHere's a simplified explanation:\\n\\n1. Sunlight contains all the colors of the visible spectrum (ROY G BIV: red, orange, yellow, green, blue, indigo, and violet).\\n2. When sunlight enters the atmosphere, it encounters tiny molecules of gases like N2 and O2.\\n3. These molecules scatter the shorter wavelengths (blue and violet) more effectively than the longer wavelengths (red and orange).\\n4. As a result, the blue light is scattered in all directions, reaching our eyes from all parts of the sky.\\n5. The other colors (red, orange, yellow, green, indigo, and violet) continue to travel in a straight line, reaching our eyes only when they are not scattered by the atmosphere.\\n\\nThis scattering effect gives the sky its blue appearance during the daytime, especially near the horizon where the sunlight has to travel through more of the Earth's atmosphere. The color can appear more intense or deeper blue when the sun is overhead and the light has traveled a shorter distance through the atmosphere.\\n\\nKeep in mind that atmospheric conditions like pollution, dust, and water vapor can affect the apparent color of the sky, making it appear more hazy or gray. Additionally, during sunrise and sunset, the angle of the sunlight and the scattering effects can create a range of colors, from orange to pink to purple, depending on the specific conditions.\\n\\nSo, to summarize: the sky appears blue because of the scattering of shorter wavelengths (blue and violet) by tiny molecules in the atmosphere, which reaches our eyes from all parts of the sky.\""
     },
     "execution_count": 62,
     "metadata": {},
     "output_type": "execute_result"
    }
   ],
   "source": [
    "from langchain_core.output_parsers import StrOutputParser\n",
    "\n",
    "parser = StrOutputParser()\n",
    "# pipe the output of our model into the input of our parser\n",
    "chain = model | parser\n",
    "# instead of invoking the model, we invoke the chain instead\n",
    "chain.invoke(\"Why is the sky blue ?.\")"
   ],
   "metadata": {
    "collapsed": false,
    "pycharm": {
     "name": "#%%\n"
    }
   }
  },
  {
   "cell_type": "markdown",
   "source": [
    "We create a prompt template encompassing the context to give the model."
   ],
   "metadata": {
    "collapsed": false,
    "pycharm": {
     "name": "#%% md\n"
    }
   }
  },
  {
   "cell_type": "code",
   "execution_count": 74,
   "outputs": [
    {
     "name": "stdout",
     "output_type": "stream",
     "text": [
      "\n",
      "You are a virtual assistant strictly designed to provide knowledge based on provided context from a database of documents.\n",
      "Answer the question based on the context below.\n",
      "If you can't answer the question, reply 'I don't know'.\n",
      "\n",
      "Context: Here is some context\n",
      "Question: Here is a question\n",
      "\n"
     ]
    }
   ],
   "source": [
    "from langchain.prompts import PromptTemplate\n",
    "\n",
    "template=\"\"\"\n",
    "You are a virtual assistant strictly designed to provide knowledge based on provided context from a database of documents.\n",
    "Answer the question based on the context below.\n",
    "If you can't answer the question, reply 'I don't know'.\n",
    "\n",
    "Context: {context}\n",
    "Question: {question}\n",
    "\"\"\"\n",
    "\n",
    "prompt = PromptTemplate.from_template(template)\n",
    "print(prompt.format(context=\"Here is some context\", question=\"Here is a question\"))"
   ],
   "metadata": {
    "collapsed": false,
    "pycharm": {
     "name": "#%%\n"
    }
   }
  },
  {
   "cell_type": "markdown",
   "source": [
    "To pass this prompt to our model, we expand upon our chain."
   ],
   "metadata": {
    "collapsed": false,
    "pycharm": {
     "name": "#%% md\n"
    }
   }
  },
  {
   "cell_type": "code",
   "execution_count": 64,
   "outputs": [],
   "source": [
    "chain = prompt | model | parser"
   ],
   "metadata": {
    "collapsed": false,
    "pycharm": {
     "name": "#%%\n"
    }
   }
  },
  {
   "cell_type": "code",
   "execution_count": 65,
   "outputs": [
    {
     "data": {
      "text/plain": "{'title': 'PromptInput',\n 'type': 'object',\n 'properties': {'context': {'title': 'Context', 'type': 'string'},\n  'question': {'title': 'Question', 'type': 'string'}}}"
     },
     "execution_count": 65,
     "metadata": {},
     "output_type": "execute_result"
    }
   ],
   "source": [
    "chain.input_schema.schema()"
   ],
   "metadata": {
    "collapsed": false,
    "pycharm": {
     "name": "#%%\n"
    }
   }
  },
  {
   "cell_type": "code",
   "execution_count": 66,
   "outputs": [
    {
     "data": {
      "text/plain": "'According to the context, Jimi Hendrix is still considered to be the best guitarist of all time.'"
     },
     "execution_count": 66,
     "metadata": {},
     "output_type": "execute_result"
    }
   ],
   "source": [
    "# to invoke a chain we need to understand the structure of our prompt template, which can be seen on the input schema above\n",
    "chain.invoke(\n",
    "    {\n",
    "        \"context\": \"In the 1960s, the rock scene was an effervescent field of talented and eccentric musicians brought up through the hippie movement. Jimi Hendrix, Eric Clapton, Jimmy Page are a few guitarists of that era who experienced a lot of success. Jimi Hendrix is still considered to be the best guitarist of all time.\",\n",
    "        \"question\": \"Who is the greatest guitarist ever ?\",\n",
    "    }\n",
    ")"
   ],
   "metadata": {
    "collapsed": false,
    "pycharm": {
     "name": "#%%\n"
    }
   }
  },
  {
   "cell_type": "markdown",
   "source": [
    "To make it so that our chain receives our documents' relevant information as context, we'll use our pinecone index. LangChain provides a Pinecone vectorstore instance."
   ],
   "metadata": {
    "collapsed": false,
    "pycharm": {
     "name": "#%% md\n"
    }
   }
  },
  {
   "cell_type": "code",
   "execution_count": 70,
   "outputs": [],
   "source": [
    "from langchain_pinecone import PineconeVectorStore\n",
    "\n",
    "vectorstore = PineconeVectorStore(\n",
    "    index_name=index_name,\n",
    "    embedding=embed_model,\n",
    ")"
   ],
   "metadata": {
    "collapsed": false,
    "pycharm": {
     "name": "#%%\n"
    }
   }
  },
  {
   "cell_type": "markdown",
   "source": [
    "A retriever is a component of Langchain that allows to retrieve information from a vector store (can retrieve from other sources). Using invoke to retrieve the top k closest documents most relevant to the prompt inputted."
   ],
   "metadata": {
    "collapsed": false,
    "pycharm": {
     "name": "#%% md\n"
    }
   }
  },
  {
   "cell_type": "code",
   "execution_count": 71,
   "outputs": [
    {
     "data": {
      "text/plain": "[Document(page_content='#### Statistical test\\n- Statistics is to help make decisions based on quantifiable uncertainties\\n- A hypothesis test contains a **null hypothesis** (no difference between data) and an **alternative hypothesis** (difference between data), difference based on a **critical value**, a benchmark\\n- A hypothesis test can test the following:\\n- One variable against another (such as in a t-test)\\n- Multiple variables against one variable (for example, linear regression)\\n- Multiple variables against multiple variables (for example, MANOVA)  \\n### Sampling strategies  \\nTwo types of sampling methods:  \\n#### Probability sampling  \\n- A sample is chosen based on a theory of probability, or randomly with random selection (every member has the same chance)  \\n4 types of probability sampling', metadata={'Header 1': 'Part 1, An introduction to statistics', 'Header 2': 'Chapter 1, Sampling and Generalization', 'source': 'data\\\\computer_science_notes\\\\Building Statistical Models in Python.md'}),\n Document(page_content='Permutation testing is used to test the null hypothesis between two samples generated from the same population. It has different names such as **exact testing, randomization testing, and re-randomization testing**.  \\n[Article constituant un meilleur exemple imo.]([Tests de permutation avec le logiciel R - DellaData](https://delladata', metadata={'Header 1': 'Part 1, An introduction to statistics', 'Header 2': 'Chapter 2, Distributions of Data', 'source': 'data\\\\computer_science_notes\\\\Building Statistical Models in Python.md'}),\n Document(page_content='### Population inference from samples  \\n- We have to give our study the same degrees of uncertainty as those of the population, to that effect we used **randomized experiments**.\\n- A random experiment has two characteristics:\\n- **random sampling**\\n- **random assignment of treatments**  \\n#### Random assignment of treatments  \\nRefers to two things :\\n- gain an understanding of specific input variables and their influence\\non the response\\n- remove the impact of external variables on the outcomes of a study', metadata={'Header 1': 'Part 1, An introduction to statistics', 'Header 2': 'Chapter 1, Sampling and Generalization', 'source': 'data\\\\computer_science_notes\\\\Building Statistical Models in Python.md'}),\n Document(page_content=\"# Part 1, An introduction to statistics  \\n## Chapter 1, Sampling and Generalization  \\n#### Population versus sample  \\n- The goal of stats modeling is to answer a question about a group by making an inference about that group (the entirety of the group is called a **population**) .\\n- Because it's unlikely to have data on the whole population (can't collect all data, too large),  we use a subset of the population, a **sample**.\\n- This subset needs to be **representative** of the population\", metadata={'Header 1': 'Part 1, An introduction to statistics', 'Header 2': 'Chapter 1, Sampling and Generalization', 'source': 'data\\\\computer_science_notes\\\\Building Statistical Models in Python.md'})]"
     },
     "execution_count": 71,
     "metadata": {},
     "output_type": "execute_result"
    }
   ],
   "source": [
    "retriever = vectorstore.as_retriever()\n",
    "retriever.invoke(\"statistical test\")"
   ],
   "metadata": {
    "collapsed": false,
    "pycharm": {
     "name": "#%%\n"
    }
   }
  },
  {
   "cell_type": "markdown",
   "source": [
    "Our pinecone vector base is working as intended. Relevant documents to our query are correctly emphasised."
   ],
   "metadata": {
    "collapsed": false,
    "pycharm": {
     "name": "#%% md\n"
    }
   }
  },
  {
   "cell_type": "code",
   "execution_count": 73,
   "outputs": [
    {
     "data": {
      "text/plain": "'Based on the provided context, there are four types of probability sampling mentioned:\\n\\n1. **Simple random sampling**: every member has an equal chance.\\n2. **Systematic sampling**: based on a fixed interval, choose a random numbered data point and select the rest of the data along the interval.\\n\\nThese two types of probability sampling are mentioned in the context as part of the \"Probability sampling\" section.'"
     },
     "execution_count": 73,
     "metadata": {},
     "output_type": "execute_result"
    }
   ],
   "source": [
    "# an itemgetter allows to create a callable with a set key, and can be used to retrieve related value of a parameter-object with said key,\n",
    "# here the parameter-object is the dict passed through invoke\n",
    "from operator import itemgetter\n",
    "\n",
    "# dict given to the prompt is a Runnable that generates a map with context and question\n",
    "# context comes from our retriever, which receives a 'question' item\n",
    "chain = ({\n",
    "    \"context\": itemgetter(\"question\") | retriever,\n",
    "    \"question\": itemgetter(\"question\"),\n",
    "    }\n",
    "    | prompt\n",
    "    | model\n",
    "    | parser\n",
    ")\n",
    "# item is given through invoke when using the chain with our question\n",
    "chain.invoke({\"question\": \"What are the different types of types of probability sampling ?\"})"
   ],
   "metadata": {
    "collapsed": false,
    "pycharm": {
     "name": "#%%\n"
    }
   }
  },
  {
   "cell_type": "markdown",
   "source": [
    "We'll fire off a few questions and evaluate our RAG setup."
   ],
   "metadata": {
    "collapsed": false,
    "pycharm": {
     "name": "#%% md\n"
    }
   }
  },
  {
   "cell_type": "code",
   "execution_count": 75,
   "outputs": [
    {
     "name": "stdout",
     "output_type": "stream",
     "text": [
      "Question: \n",
      "How does learning rate affect training ?\n",
      "Answer : \n",
      "Based on the provided context, I can answer that varying the learning rate can impact the training process in the following ways:\n",
      "\n",
      "* If the learning rate is too high, the model may overfit by a larger amount (as seen in the example with two hidden layers).\n",
      "* If the learning rate is too low, the model may not learn as well as when there were no hidden layers.\n",
      "\n",
      "Additionally, it's mentioned that small input values can lead to drastic weight changes, which highlights the importance of choosing an appropriate learning rate.\n",
      "Question: \n",
      "What are some of the different object detection techniques/architectures ?\n",
      "Answer : \n",
      "Based on the provided context, I can identify the following object detection techniques/architectures mentioned:\n",
      "\n",
      "1. R-CNN (Region-based Convolutional Neural Networks)\n",
      "2. Fast R-CNN\n",
      "3. SSD (Single Shot Detector)\n",
      "4. YOLO (You Only Look Once)\n",
      "5. U-Net\n",
      "6. Mask-RCNN\n",
      "7. Detectron2\n",
      "\n",
      "These are some of the modern object detection approaches and architectures mentioned in the context, which include Faster R-CNN architecture and leveraging region proposals generated by selective search.\n",
      "Question: \n",
      "What does ANN stand for ?\n",
      "Answer : \n",
      "Based on the provided context, I can answer that:\n",
      "\n",
      "ANN stands for Artificial Neural Network.\n",
      "Question: \n",
      "Explain cross-entropy and its different forms.\n",
      "Answer : \n",
      "Based on the provided context, I can explain cross-entropy and its different forms.\n",
      "\n",
      "Cross-entropy is a loss function used in machine learning to measure the difference between the predicted output and the actual output. It is commonly used for multi-class classification problems where the target variable has more than two distinct values.\n",
      "\n",
      "There are two main forms of cross-entropy:\n",
      "\n",
      "1. **Categorical Cross-Entropy**: This is used when the target variable has more than two distinct values (i.e., C > 2). The formula for categorical cross-entropy is:\n",
      "\n",
      "![[Pasted image 20230901133354.png]]\n",
      "\n",
      "\n",
      "\n",
      "where y is the actual value of the output, p is the predicted value of the output, m is the total number of data points, and C is the total number of classes.\n",
      "\n",
      "2. **Binary Cross-Entropy**: This is used when the target variable has only two distinct values (i.e., C = 2). The formula for binary cross-entropy is:\n",
      "\n",
      "![[Pasted image 20230901133047.png]]\n",
      "\n",
      "\n",
      "\n",
      "where y is the actual value of the output, p is the predicted value of the output, and m is the total number of data points.\n",
      "\n",
      "In summary, categorical cross-entropy is used for multi-class classification problems with more than two classes, while binary cross-entropy is used for binary classification problems with only two classes.\n",
      "Question: \n",
      "What is the use of a statistical test ?\n",
      "Answer : \n",
      "According to the provided context, the use of a statistical test is \"to help make decisions based on quantifiable uncertainties\".\n",
      "Question: \n",
      "Are there notes relevant to a book in our documents ? Who wrote it ?\n",
      "Answer : \n",
      "Based on the provided context, I can answer your question.\n",
      "\n",
      "Yes, there are notes relevant to a book in our documents. The specific book is \"Modern Computer Vision with PyTorch\" by V Kishore Ayyadevara and Yeshwanth Reddy.\n",
      "\n",
      "The metadata for this document includes tags such as \"book\", \"computer vision\", and \"PyTorch\", indicating that it is related to the book.\n"
     ]
    }
   ],
   "source": [
    "questions = [\n",
    "    \"How does learning rate affect training ?\",\n",
    "    \"What are some of the different object detection techniques/architectures ?\",\n",
    "    \"What does ANN stand for ?\",\n",
    "    \"Explain cross-entropy and its different forms.\",\n",
    "    \"What is the use of a statistical test ?\",\n",
    "    \"Are there notes relevant to a book in our documents ? Who wrote it ?\",\n",
    "]\n",
    "\n",
    "for question in questions:\n",
    "    print(f\"Question: \\n\\n{question}\")\n",
    "    print(f\"Answer : \\n{chain.invoke({'question': question})}\")"
   ],
   "metadata": {
    "collapsed": false,
    "pycharm": {
     "name": "#%%\n"
    }
   }
  },
  {
   "cell_type": "markdown",
   "source": [
    "We can still notice the lack of sophistication in our local LLaMa 3's responses. The model tends to rely too much on direct citing, which may be why it references image paths without showcasing the knowledge that they can't be used in this context. As always, model quality is one side of the equation, the other being prompt quality."
   ],
   "metadata": {
    "collapsed": false,
    "pycharm": {
     "name": "#%% md\n"
    }
   }
  },
  {
   "cell_type": "code",
   "execution_count": 76,
   "outputs": [
    {
     "name": "stdout",
     "output_type": "stream",
     "text": [
      "Based on the provided context, I can answer that:\n",
      "\n",
      "The project JumperCV is a computer vision project focused on detecting and tracking players in basketball videos. The project involves Multiple Object Tracking (MOT) as its central objective."
     ]
    }
   ],
   "source": [
    "for s in chain.stream({'question': 'What is the project JumperCV ?'}):\n",
    "    print(s, end=\"\", flush=True)"
   ],
   "metadata": {
    "collapsed": false,
    "pycharm": {
     "name": "#%%\n"
    }
   }
  },
  {
   "cell_type": "markdown",
   "source": [
    "Pleasantly surprised by this one."
   ],
   "metadata": {
    "collapsed": false,
    "pycharm": {
     "name": "#%% md\n"
    }
   }
  },
  {
   "cell_type": "markdown",
   "source": [
    "We have successfully integrated a Pinecone vector base into our RAG setup. This allows us to benefit from a faster and less expensive retrieval method, now that we don't have to reload and split our documents every time. This vector base is also easy to expand and displace onto other tools and projects if needed.\n",
    "\n",
    "Next time we'll build upon this base by looking at LangGraph. This tool gives us the capacity to orchestrate an agentic workflow with our LLM chain and refer ourselves to a state graph to do so. We'll try and implement a router that decides if the provided context is valid/helpful, and if not, use function calling to complement knowledge with the internet. We'll monitor all of this through LangSmith, and finally want to test our RAG on an actual frontend through LangServe Chat Playground. In general, we'll keep versioning these notebooks with different experiments in agentic workflows. I will also make these into actual scripts and use them as a module.\n"
   ],
   "metadata": {
    "collapsed": false,
    "pycharm": {
     "name": "#%% md\n"
    }
   }
  },
  {
   "cell_type": "code",
   "execution_count": null,
   "outputs": [],
   "source": [],
   "metadata": {
    "collapsed": false,
    "pycharm": {
     "name": "#%%\n"
    }
   }
  }
 ],
 "metadata": {
  "kernelspec": {
   "display_name": "Python 3",
   "language": "python",
   "name": "python3"
  },
  "language_info": {
   "codemirror_mode": {
    "name": "ipython",
    "version": 2
   },
   "file_extension": ".py",
   "mimetype": "text/x-python",
   "name": "python",
   "nbconvert_exporter": "python",
   "pygments_lexer": "ipython2",
   "version": "2.7.6"
  }
 },
 "nbformat": 4,
 "nbformat_minor": 0
}